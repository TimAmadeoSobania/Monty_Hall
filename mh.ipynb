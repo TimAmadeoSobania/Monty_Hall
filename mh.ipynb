{
 "cells": [
  {
   "cell_type": "code",
   "execution_count": 1,
   "metadata": {},
   "outputs": [],
   "source": [
    "import random"
   ]
  },
  {
   "cell_type": "code",
   "execution_count": 25,
   "metadata": {},
   "outputs": [],
   "source": [
    "won_car = 0\n",
    "number_simulations = 1000000\n",
    "\n",
    "for i in range(number_simulations):\n",
    "    #initialize the 3 doors with 3 goats behind them\n",
    "    doors = [\n",
    "        \"goat\",\n",
    "        \"goat\",\n",
    "        \"goat\"\n",
    "    ]\n",
    "\n",
    "    #change the content of one door to car\n",
    "    rand = random.randint(0,2)\n",
    "    doors[rand] = \"car\"\n",
    "\n",
    "    #pick one door. Since it doesn't matter which, I always pick nr. 0\n",
    "    my_pick = 0\n",
    "\n",
    "    #the gamehost reveals another door with a goat\n",
    "    if doors[my_pick] == \"car\":\n",
    "        reveal_goat = random.randint(1,2)\n",
    "    else:\n",
    "        if doors[1] == \"goat\":\n",
    "            reveal_goat = 1\n",
    "        else:\n",
    "            reveal_goat = 2\n",
    "    \n",
    "    #I switch my door to the other option\n",
    "    if reveal_goat == 1:\n",
    "        my_pick = 2\n",
    "    if reveal_goat == 2:\n",
    "        my_pick = 1\n",
    "\n",
    "    if doors[my_pick] == \"car\":\n",
    "        won_car += 1"
   ]
  },
  {
   "cell_type": "code",
   "execution_count": 26,
   "metadata": {},
   "outputs": [
    {
     "name": "stdout",
     "output_type": "stream",
     "text": [
      "In 1000000 Simulations I won a car after sitching the door in 666380 cases. That is 66.638%.\n"
     ]
    }
   ],
   "source": [
    "print(f\"In {number_simulations} simulations I won a car after sitching the door in {won_car} cases. That is {won_car*100/number_simulations}%. Also I'm pretty rich now.\")"
   ]
  },
  {
   "cell_type": "code",
   "execution_count": null,
   "metadata": {},
   "outputs": [],
   "source": []
  }
 ],
 "metadata": {
  "interpreter": {
   "hash": "31f2aee4e71d21fbe5cf8b01ff0e069b9275f58929596ceb00d14d90e3e16cd6"
  },
  "kernelspec": {
   "display_name": "Python 3.8.10 64-bit",
   "language": "python",
   "name": "python3"
  },
  "language_info": {
   "codemirror_mode": {
    "name": "ipython",
    "version": 3
   },
   "file_extension": ".py",
   "mimetype": "text/x-python",
   "name": "python",
   "nbconvert_exporter": "python",
   "pygments_lexer": "ipython3",
   "version": "3.8.10"
  },
  "orig_nbformat": 4
 },
 "nbformat": 4,
 "nbformat_minor": 2
}
